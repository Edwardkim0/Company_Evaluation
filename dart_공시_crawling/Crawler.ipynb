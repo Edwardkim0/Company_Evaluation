{
 "cells": [
  {
   "cell_type": "code",
   "execution_count": 1,
   "metadata": {},
   "outputs": [],
   "source": [
    "import pandas as pd\n",
    "import numpy as np\n",
    "import os\n",
    "\n",
    "from bs4 import BeautifulSoup\n",
    "from selenium import webdriver"
   ]
  },
  {
   "cell_type": "code",
   "execution_count": 6,
   "metadata": {},
   "outputs": [],
   "source": [
    "df = download_stock_codes('kospi')"
   ]
  },
  {
   "cell_type": "code",
   "execution_count": 7,
   "metadata": {},
   "outputs": [],
   "source": [
    "code_list = df['종목코드']"
   ]
  },
  {
   "cell_type": "code",
   "execution_count": 8,
   "metadata": {},
   "outputs": [
    {
     "name": "stderr",
     "output_type": "stream",
     "text": [
      "c:\\users\\jay\\pycharmprojects\\data_science\\venv\\lib\\site-packages\\ipykernel_launcher.py:27: DeprecationWarning: use options instead of chrome_options\n"
     ]
    }
   ],
   "source": [
    "chrome_driver_path = os.path.abspath(\"./chromedriver.exe\")\n",
    "prefs = {'profile.default_content_setting_values': {'cookies': 2, 'images': 2, 'plugins': 2, 'popups': 2,\n",
    "                                                    'geolocation': 2, 'notifications': 2,\n",
    "                                                    'auto_select_certificate': 2, 'fullscreen': 2,\n",
    "                                                    'mouselock': 2, 'mixed_script': 2, 'media_stream': 2,\n",
    "                                                    'media_stream_mic': 2, 'media_stream_camera': 2,\n",
    "                                                    'protocol_handlers': 2, 'ppapi_broker': 2,\n",
    "                                                    'automatic_downloads': 2, 'midi_sysex': 2,\n",
    "                                                    'push_messaging': 2, 'ssl_cert_decisions': 2,\n",
    "                                                    'metro_switch_to_desktop': 2,\n",
    "                                                    'protected_media_identifier': 2, 'app_banner': 2,\n",
    "                                                    'site_engagement': 2, 'durable_storage': 2,\n",
    "                              \n",
    "                                                    'javascript': 2}}\n",
    "\n",
    "options = webdriver.ChromeOptions()\n",
    "options.add_experimental_option('prefs', prefs)\n",
    "options.add_argument(\"start-maximized\")\n",
    "options.add_argument(\"disable-infobars\")\n",
    "options.add_argument(\"--disable-extensions\")\n",
    "options.add_argument('headless')\n",
    "options.add_argument(\"disable-gpu\")\n",
    "# options.add_argument(\n",
    "#     \"user-agent=Mozilla/5.0 (Macintosh; Intel Mac OS X 10_12_6) AppleWebKit/537.36 (KHTML, like Gecko) Chrome/77.0.3865.90  Safari/537.36\")\n",
    "\n",
    "driver = webdriver.Chrome(executable_path=chrome_driver_path,\n",
    "                          chrome_options=options)"
   ]
  },
  {
   "cell_type": "code",
   "execution_count": 9,
   "metadata": {},
   "outputs": [],
   "source": [
    "# driver.page_source -> 개발자 코드와 동일"
   ]
  },
  {
   "cell_type": "code",
   "execution_count": 11,
   "metadata": {},
   "outputs": [
    {
     "name": "stdout",
     "output_type": "stream",
     "text": [
      "400\n"
     ]
    }
   ],
   "source": [
    "samsung_list = get_shareholder_list(\"010170\")"
   ]
  },
  {
   "cell_type": "code",
   "execution_count": 12,
   "metadata": {},
   "outputs": [
    {
     "data": {
      "text/plain": [
       "['티에프오인더스트리', '설윤석', '양귀애', '설윤성']"
      ]
     },
     "execution_count": 12,
     "metadata": {},
     "output_type": "execute_result"
    }
   ],
   "source": [
    "samsung_list"
   ]
  },
  {
   "cell_type": "code",
   "execution_count": 5,
   "metadata": {},
   "outputs": [],
   "source": [
    "import urllib.parse\n",
    "\n",
    "MARKET_CODE_DICT = {\n",
    "    'kospi': 'stockMkt',\n",
    "    'kosdaq': 'kosdaqMkt',\n",
    "    'konex': 'konexMkt'\n",
    "}\n",
    "\n",
    "DOWNLOAD_URL = 'kind.krx.co.kr/corpgeneral/corpList.do'\n",
    "\n",
    "def download_stock_codes(market=None, delisted=False):\n",
    "    params = {'method': 'download'}\n",
    "\n",
    "    if market.lower() in MARKET_CODE_DICT:\n",
    "        params['marketType'] = MARKET_CODE_DICT[market]\n",
    "\n",
    "    if not delisted:\n",
    "        params['searchType'] = 13\n",
    "\n",
    "    params_string = urllib.parse.urlencode(params)\n",
    "    request_url = urllib.parse.urlunsplit(['http', DOWNLOAD_URL, '', params_string, ''])\n",
    "\n",
    "    df = pd.read_html(request_url, header=0)[0]\n",
    "    df.종목코드 = df.종목코드.map('{:06d}'.format)\n",
    "\n",
    "    return df"
   ]
  },
  {
   "cell_type": "code",
   "execution_count": 10,
   "metadata": {},
   "outputs": [],
   "source": [
    "def get_shareholder_list(code: str):\n",
    "    \"\"\"\n",
    "    code: 종목코드\n",
    "    return:\n",
    "    shareholder_list: type=list, 대주주리스트\n",
    "    \"\"\"\n",
    "    driver.get('https://navercomp.wisereport.co.kr/v2/company/c1010001.aspx?cmp_cd={}'.format(code))\n",
    "\n",
    "    count = 10\n",
    "    pg_list = []\n",
    "    while True:\n",
    "        try:\n",
    "            driver.find_element_by_xpath(\"//a[@class='btn_moreE sJJ' and @data-grp='\"+ str(count) + \"']\").click()\n",
    "            pg_list.append(count)\n",
    "            count += 10\n",
    "        except:\n",
    "            print(400)\n",
    "            break\n",
    "\n",
    "    html = driver.page_source\n",
    "\n",
    "    data = BeautifulSoup(html, 'html.parser')\n",
    "\n",
    "    shareholder_list = []\n",
    "\n",
    "    for i in pg_list:\n",
    "        refined_data = data.find_all('tr', {'class':\"c_sJJ{}\".format(i) +\" c_sJJ\"})\n",
    "        for i in range(len(refined_data)):\n",
    "            shareholder_list.append(refined_data[i].find('span').text)\n",
    "    return shareholder_list"
   ]
  },
  {
   "cell_type": "code",
   "execution_count": null,
   "metadata": {},
   "outputs": [],
   "source": []
  }
 ],
 "metadata": {
  "kernelspec": {
   "display_name": "Python 3",
   "language": "python",
   "name": "python3"
  },
  "language_info": {
   "codemirror_mode": {
    "name": "ipython",
    "version": 3
   },
   "file_extension": ".py",
   "mimetype": "text/x-python",
   "name": "python",
   "nbconvert_exporter": "python",
   "pygments_lexer": "ipython3",
   "version": "3.6.7"
  }
 },
 "nbformat": 4,
 "nbformat_minor": 4
}
