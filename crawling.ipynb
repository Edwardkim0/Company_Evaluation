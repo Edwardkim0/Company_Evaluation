{
 "cells": [
  {
   "cell_type": "code",
   "execution_count": 1,
   "metadata": {},
   "outputs": [],
   "source": [
    "import requests\n",
    "from bs4 import BeautifulSoup\n",
    "from urllib.request import urlopen\n",
    "import pandas as pd\n",
    "import os\n",
    "import re\n",
    "import string\n",
    "import pprint\n",
    "import json\n",
    "import time"
   ]
  },
  {
   "cell_type": "code",
   "execution_count": 2,
   "metadata": {},
   "outputs": [],
   "source": [
    "data_dir = \"C:\\\\data\"\n",
    "xls_path = os.path.join(data_dir,\"company_list.xls\")"
   ]
  },
  {
   "cell_type": "code",
   "execution_count": 3,
   "metadata": {},
   "outputs": [],
   "source": [
    "df = pd.read_html('http://kind.krx.co.kr/corpgeneral/corpList.do?method=download&searchType=13', header=0)[0]\n"
   ]
  },
  {
   "cell_type": "code",
   "execution_count": 4,
   "metadata": {},
   "outputs": [
    {
     "name": "stdout",
     "output_type": "stream",
     "text": [
      "0            DSR\n",
      "1          GS글로벌\n",
      "2          HSD엔진\n",
      "3          LG이노텍\n",
      "4           LS산전\n",
      "          ...   \n",
      "2350       에이원알폼\n",
      "2351       원바이오젠\n",
      "2352     지앤이헬스케어\n",
      "2353          코셋\n",
      "2354    한국미라클피플사\n",
      "Name: 회사명, Length: 2355, dtype: object\n"
     ]
    }
   ],
   "source": [
    "company_object = df['회사명']\n",
    "print(company_object)\n",
    "company_list = list(company_object)"
   ]
  },
  {
   "cell_type": "code",
   "execution_count": 5,
   "metadata": {},
   "outputs": [],
   "source": [
    "from collections import defaultdict\n",
    "company_dict = defaultdict(list)"
   ]
  },
  {
   "cell_type": "code",
   "execution_count": 6,
   "metadata": {},
   "outputs": [],
   "source": [
    "# html = urlopen(\"https://www.amazon.com/books-used-books-textbooks/b?ie=UTF8&node=283155\")  \n",
    "url =\"https://biz.chosun.com\"\n",
    "html = urlopen(url)\n",
    "bsObject = BeautifulSoup(html, \"html.parser\") \n",
    "bsObject_lxml = BeautifulSoup(html, 'lxml', from_encoding='utf-8')\n",
    "\n",
    "# print(bsObject.prettify())"
   ]
  },
  {
   "cell_type": "code",
   "execution_count": 7,
   "metadata": {},
   "outputs": [],
   "source": [
    "web_driver_path = \"C:\\\\project\\\\code\\\\ai_company_evaluatuion\\\\chromedriver_win32\\\\chromedriver.exe\""
   ]
  },
  {
   "cell_type": "code",
   "execution_count": 8,
   "metadata": {},
   "outputs": [],
   "source": [
    "from selenium import webdriver"
   ]
  },
  {
   "cell_type": "code",
   "execution_count": 34,
   "metadata": {},
   "outputs": [],
   "source": [
    "driver = webdriver.Chrome(web_driver_path)\n",
    "driver.implicitly_wait(3)"
   ]
  },
  {
   "cell_type": "code",
   "execution_count": 35,
   "metadata": {},
   "outputs": [],
   "source": [
    "driver.get(url)"
   ]
  },
  {
   "cell_type": "code",
   "execution_count": 36,
   "metadata": {},
   "outputs": [],
   "source": [
    "xpath_industry = {}\n",
    "xpath_industry[\"industry\"] = \"\"\"//*[@id=\"header\"]/div[3]/div[2]/div[1]/ul[1]/li[1]/a\"\"\" \n",
    "xpath_industry[\"company\"]  = {}\n",
    "xpath_industry[\"company\"][1] = \"\"\"//*[@id=\"list_left_aside_id\"]/ul/li[2]/a\"\"\"\n",
    "xpath_industry[\"company\"][2] = \"\"\"//*[@id=\"contents\"]/div/div[2]/div[2]/ul/li[3]/a\"\"\"\n",
    " \n",
    "driver.find_element_by_xpath(xpath_industry[\"industry\"]).click()\n"
   ]
  },
  {
   "cell_type": "code",
   "execution_count": 38,
   "metadata": {},
   "outputs": [
    {
     "data": {
      "text/plain": [
       "'<html lang=\"ko\"><head>\\n    <meta charset=\"UTF-8\">\\n    <title>산업 섹션 - Chosunbiz</title>\\n    <meta name=\"description\" content=\"조선비즈는 국내 최고의 온라인 경제 전문 미디어로, 정책, 금융, 부동산, 기업, 글로벌 경제 등 정보를 제공합니다.\">\\n    <meta name=\"keywords\" content=\"조선비즈, chosunbiz, 종합미디어\">\\n    <meta name=\"author\" content=\"ChosunBiz\">\\n    <meta name=\"HITLOG\" content=\"60;7;sec_7\">\\n    <meta http-equiv=\"X-UA-Compatible\" content=\"IE=edge,chrome=1\">\\n\\n    <link href=\"//biz.chosun.com/site/data/rss/rss.xml\" rel=\"alternate\" type=\"application/rss+xml\" title=\"Chosun.com [RSS]\">\\n    <link href=\"//news.chosun.com/favicon.ico\" rel=\"icon\" type=\"image/x-icon\">\\n    <link rel=\"canonical\" href=\"//biz.chosun.com\">\\n    <link rel=\"stylesheet\" type=\"text/css\" href=\"//biz.chosun.com/dhtm/2018/css/header_footer.css\">\\n    <link rel=\"stylesheet\" type=\"text/css\" href=\"//biz.chosun.com/dhtm/2018/css/section_default.css\">\\n\\n\\t<script type=\"text/javascript\" async=\"\" src=\"https://www.google-analytics.com/plugins/ga/inpage_linkid.js\" id=\"undefined\"></script><script type=\"text/javascript\" async=\"\" src=\"https://www.google-analytics.com/gtm/js?id=GTM-NLS4VW6&amp;cid=539526065.1582338437\"></script><script type=\"text/javascript\" async=\"\" src=\"https://www.google-analytics.com/plugins/ua/linkid.js\"></script><script async=\"\" src=\"//www.google-analytics.com/analytics.js\"></script><script type=\"text/javascript\" async=\"\" src=\"https://stats.g.doubleclick.net/dc.js\"></script><script type=\"text/javascript\" src=\"//news.chosun.com/dhtm/js/common/collecter.js\"></script>\\n    <!--[if lt IE 9]><script src=\"//news.chosun.com/dhtm/html5/html5shiv.min.js\"></script><![endif]-->\\n    <script type=\"text/javascript\" src=\"//news.chosun.com/dhtm/js/jquery-1.9.1.min.js\"></script>\\n    <script type=\"text/javascript\" src=\"//biz.chosun.com/dhtm/2018/js/jquery.easing.js\"></script>\\n    <script type=\"text/javascript\" src=\"//news.chosun.com/dhtm/js/jquery.bxslider.min.js\"></script>\\n    <script src=\"//news.chosun.com/dhtm18/js/common/jquery.scrollbar.min.js\"></script>\\n    <script type=\"text/javascript\" src=\"//biz.chosun.com/svc/js/news_sub.js\"></script>\\n\\t<script type=\"text/javascript\" src=\"//biz.chosun.com/svc/js/gnb_keyword.js\"></script>\\n    <script> var CatID = \"7\";</script>\\n\\n    <!-- 구글분석 start -->\\n    <script type=\"text/javascript\">\\n    var _gaq = _gaq || [];\\n    var pluginUrl =\\n    \\'//www.google-analytics.com/plugins/ga/inpage_linkid.js\\';\\n    _gaq.push([\\'_require\\', \\'inpage_linkid\\', pluginUrl]);\\n    _gaq.push([\\'_setAccount\\', \\'UA-37953643-1\\']);\\n    _gaq.push([\\'_setDomainName\\', \\'chosun.com\\']);\\n    _gaq.push([\\'_trackPageview\\']);\\n\\n    (function() {\\n    var ga = document.createElement(\\'script\\'); ga.type = \\'text/javascript\\'; ga.async = true;\\n    ga.src = (\\'https:\\' == document.location.protocol ? \\'https://\\' : \\'http://\\') + \\'stats.g.doubleclick.net/dc.js\\';\\n    var s = document.getElementsByTagName(\\'script\\')[0]; s.parentNode.insertBefore(ga, s);\\n    })();\\n    </script>\\n    <!-- 구글분석 end -->\\n<script>\\n    (function(i,s,o,g,r,a,m){i[\\'GoogleAnalyticsObject\\']=r;i[r]=i[r]||function(){\\n    (i[r].q=i[r].q||[]).push(arguments)},i[r].l=1*new Date();a=s.createElement(o),\\n    m=s.getElementsByTagName(o)[0];a.async=1;a.src=g;m.parentNode.insertBefore(a,m)\\n    })(window,document,\\'script\\',\\'//www.google-analytics.com/analytics.js\\',\\'ga\\');\\n\\n    ga(\\'create\\', \\'UA-58940796-5\\', \\'auto\\'); //Biz\\n    ga(\\'require\\', \\'displayfeatures\\');\\n    ga(\\'require\\', \\'linkid\\', \\'linkid.js\\');\\n    ga(\\'require\\', \\'GTM-NLS4VW6\\');\\n    ga(\\'send\\', \\'pageview\\');\\n\\n    ga(\\'create\\', \\'UA-58940796-24\\', \\'auto\\',{\\'name\\':\\'chosun_total\\'});\\n    ga(\\'require\\', \\'displayfeatures\\');\\n    ga(\\'require\\', \\'linkid\\', \\'linkid.js\\');\\n    ga(\\'chosun_total.send\\', \\'pageview\\');\\n\\n    ga(\\'create\\', \\'UA-37953643-11\\', \\'auto\\',{\\'name\\':\\'chosunbiz_total\\'});\\n    ga(\\'require\\', \\'displayfeatures\\');\\n    ga(\\'require\\', \\'linkid\\', \\'linkid.js\\');\\n    ga(\\'chosunbiz_total.send\\', \\'pageview\\');\\n</script></head>\\n\\n\\n<body>\\n    <div id=\"wrapper\">\\n        <div id=\"header\">\\n            <div class=\"simple_gnb\">\\n                <script>\\n                    //chosun.com simple gnb var\\n                    var csmgsgnbWidth = \"1196\", //사이트 내 콘텐츠 너비값 (기본값 : 1196px)\\n                        csmgsgnbLogin = \"Y\"; //로그인 버튼 사용 여부 (기본값 : N)\\n                        csmgsgnbSearch = \"N\"; //검색 버튼 사용 여부 (기본값 : N)\\n                </script>\\n                <script src=\"//news.chosun.com/ui/js/csmgs_simple_gnb.js\" charset=\"utf-8\"></script><style>.csmgsgnb_wrap, .csmgsgnb_wrap > * { margin: 0; padding: 0; border: 0 } .csmgsgnb_wrap ul, .csmgsgnb_wrap li { list-style: none } .csmgsgnb_hide { display:none } .csmgsgnb_wrap a { text-decoration: none } .csmgsgnb_wrap { position: relative; width: 100%; height: 35px; background: #f3f3f3; border-bottom: solid 1px #eaeaea; font-family: \"맑은 고딕\", \"Malgun Gothic\", \"나눔고딕\", \"돋움\", Dotum, \"굴림\", Gulim, \"Apple SD Gothic Neo\", sans-serif; font-size: 12px; line-height: 1.3; z-index: 100 } .csmgsgnb_in { position: relative; width: 1196px; margin: 0 auto; line-height: 35px } .csmgsgnb_le { position: absolute; top: 0; left: 0 } .csmgsgnb_ri { text-align: right; font-size: 0 } a.csmgsgnb_logo { display: block; width: 100px; height: 35px; background-position: 0 11px } ul.csmgsgnb_links { display: inline; padding-right: 15px; font-size: 0 } ul.csmgsgnb_links > li { position: relative; display: inline-block; margin-right: 15px; font-size: 12px; vertical-align: top; letter-spacing: -0.025em } ul.csmgsgnb_links > li a { display: block; color: #777; font-family: \"맑은 고딕\", \"Malgun Gothic\", \"나눔고딕\", \"돋움\", Dotum, \"굴림\", Gulim, \"Apple SD Gothic Neo\", sans-serif; } ul.csmgsgnb_links > li a:hover { color: #000 } ul.csmgsgnb_sublinks { position: absolute; top: 34px; left: 0; display: block; width: 90px; padding: 6px 0; box-sizing: border-box; background: #fff; border: solid 1px #d7d7d7; text-align: left; z-index: 100; display: none } ul.csmgsgnb_sublinks:hover { display: block } ul.csmgsgnb_sublinks li { display: block; padding-left: 15px; line-height: 26px; letter-spacing: -0.025em } ul.csmgsgnb_sublinks li a { font-family: \"맑은 고딕\", \"Malgun Gothic\", \"나눔고딕\", \"돋움\", Dotum, \"굴림\", Gulim, \"Apple SD Gothic Neo\", sans-serif; font-size: 12px } ul.csmgsgnb_sublinks li a:hover { color: #000 } .csmgsgnb_newspress_box span.csmgsgnb_img { display: inline-block; width: 8px; height: 4px; margin-left: 3px; background-position: -100px 0; vertical-align: middle; transition: ease all 0.2s; -webkit-transition: ease all 0.2s; -moz-transition: ease all 0.2s; -ms-transition: ease all 0.2s; -o-transition: ease all 0.2s; } .csmgsgnb_newspress_box:hover span.csmgsgnb_img { transform: rotate(180deg); -webkit-transform: rotate(180deg); -moz-transform: rotate(180deg); -ms-transform: rotate(180deg); -o-transform: rotate(180deg); } a.csmgsgnb_newspress {} a.csmgsgnb_newspress:hover + ul.csmgsgnb_sublinks { display: block } a.csmgsgnb_login { display: none; margin-right:5px; font-size: 12px; color: #222; letter-spacing: -0.025em; font-family: \"맑은 고딕\", \"Malgun Gothic\", \"나눔고딕\", \"돋움\", Dotum, \"굴림\", Gulim, \"Apple SD Gothic Neo\", sans-serif; } a.csmgsgnb_search { display: none; width: 30px; height: 30px; margin-top: 3px; font-size: 12px; background-position: -118px 7px; vertical-align: top } .csmgsgnb_img { background-image: url(\"data:image/png;base64,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\"); background-repeat: no-repeat }</style><div class=\"csmgsgnb_wrap\"> <div class=\"csmgsgnb_in\" id=\"csmgsgnb_in_id\" style=\"width: 1196px;\"> <div class=\"csmgsgnb_le\"> <a href=\"//www.chosun.com/?utm_source=csmedia&amp;utm_medium=simplegnb&amp;utm_campaign=www\" class=\"csmgsgnb_img csmgsgnb_logo\" target=\"_blank\" title=\"chosun.com\"><strong class=\"csmgsgnb_hide\">chosun.com</strong></a> </div> <div class=\"csmgsgnb_ri\"> <ul class=\"csmgsgnb_links\"> <li><a href=\"http://sports.chosun.com/?utm_source=csmedia&amp;utm_medium=simplegnb&amp;utm_campaign=sportschosun\" target=\"_blank\">스포츠조선</a></li> <li><a href=\"//biz.chosun.com/?utm_source=csmedia&amp;utm_medium=simplegnb&amp;utm_campaign=biz\" target=\"_blank\">조선비즈</a></li> <li><a href=\"http://www.tvchosun.com/?utm_source=csmedia&amp;utm_medium=simplegnb&amp;utm_campaign=tvchosun\" target=\"_blank\">TV조선</a></li> <li><a href=\"http://health.chosun.com/?utm_source=csmedia&amp;utm_medium=simplegnb&amp;utm_campaign=health\" target=\"_blank\">헬스조선</a></li> <li><a href=\"http://edu.chosun.com/?utm_source=csmedia&amp;utm_medium=simplegnb&amp;utm_campaign=edu\" target=\"_blank\">조선에듀</a></li> <li><a href=\"http://it.chosun.com/?utm_source=csmedia&amp;utm_medium=simplegnb&amp;utm_campaign=it\" target=\"_blank\">IT조선</a></li> <li class=\"csmgsgnb_newspress_box\"><a href=\"http://chosunnewspress.chosun.com/?utm_source=csmedia&amp;utm_medium=simplegnb&amp;utm_campaign=newspress\" target=\"_blank\" class=\"csmgsgnb_newspress\">조선뉴스프레스<span class=\"csmgsgnb_img\"></span></a> <ul class=\"csmgsgnb_sublinks\"> <li><a href=\"http://monthly.chosun.com/\" target=\"_blank\">월간조선</a></li> <li><a href=\"http://weekly.chosun.com/\" target=\"_blank\">주간조선</a></li> <li><a href=\"http://woman.chosun.com/\" target=\"_blank\">여성조선</a></li> <li><a href=\"http://san.chosun.com/\" target=\"_blank\">월간산</a></li> <li><a href=\"http://topclass.chosun.com/\" target=\"_blank\">TOPCLASS</a></li> <li><a href=\"http://pub.chosun.com/\" target=\"_blank\">조선pub</a></li> </ul> </li> </ul> <a href=\"https://membership.chosun.com/login/protect_sso/sso_user_info.jsp?returl=https%3A//biz.chosun.com/svc/section/index.html%3Fcatid%3D7\" class=\"csmgsgnb_login\" id=\"csmgsgnb_login_id\" rel=\"nofollow\" style=\"display: inline-block;\">로그인</a> <a href=\"http://nsearch.chosun.com/search/total.search?query=&amp;pageconf=total&amp;utm_source=csmedia&amp;utm_medium=simplegnb&amp;utm_campaign=search\" target=\"_blank\" class=\"csmgsgnb_search csmgsgnb_img\" id=\"csmgsgnb_search_id\" title=\"검색\"><span class=\"csmgsgnb_hide\">조선닷컴 검색</span></a> </div> </div> </div>\\n            </div><!-- simple_gnb -->\\n\\n            <div class=\"header_cont\">\\n                <script type=\"text/javascript\" src=\"//biz.chosun.com/dhtm/2018/js/biz_gnb_2018.js\" charset=\"utf-8\"></script><div class=\"h_top\">    <div class=\"logo\"><a href=\"//biz.chosun.com\" onclick=\"ga(\\'send\\', \\'event\\', \\'GNB\\', \\'Logo\\', \\'Bizlogo\\');\"><!--img src=\"//image.chosun.com/chosunbiz/2018/main/logo.png\" alt=\"ChosunBiz\"--> <img src=\"//image.chosun.com/chosunbiz/2018/main/logo_10.png?v2\" alt=\"ChosunBiz\"></a></div>    <div class=\"h_top_bnr\"><script src=\"//yellow.contentsfeed.com/RealMedia/ads/adstream_jx.ads/biz.chosun.com/main@x01\"></script><a href=\"https://yellow.contentsfeed.com/RealMedia/ads/click_lx.ads/biz.chosun.com/main/L19/863939787/x01/chosun/biz_main_a_economy_200101/biz_main_top_economy.html/65697359623135516b594d4141385630\" target=\"_blank\"><img src=\"https://adimg.chosun.com/RealMedia/ads/Creatives/chosun/biz_main_a_economy_200101/335.jpg\" border=\"0\"></a></div></div><!-- h_top --><div class=\"gnb_area\">    <div class=\"inner\">        <div class=\"cbz_menu_btn\"><a href=\"#\" onclick=\"ga(\\'send\\', \\'event\\', \\'GNB\\', \\'MenuBar\\', \\'menu_open\\');\" rel=\"nofollow\">조선비즈 메뉴버튼</a></div>        <ul class=\"gnb_menu_list\">            <li class=\"active\"><a href=\"//biz.chosun.com/svc/section/index.html?catid=7\" onclick=\"ga(\\'send\\', \\'event\\', \\'GNB\\', \\'MenuBar\\', \\'menu_industry\\');\">산업</a></li>            <li><a href=\"//biz.chosun.com/svc/section/index.html?catid=4\" onclick=\"ga(\\'send\\', \\'event\\', \\'GNB\\', \\'MenuBar\\', \\'menu_realty\\');\">부동산</a></li>            <li><a href=\"//biz.chosun.com/svc/section/index.html?catid=3\" onclick=\"ga(\\'send\\', \\'event\\', \\'GNB\\', \\'MenuBar\\', \\'menu_stock\\');\">증권</a></li>            <li><a href=\"//biz.chosun.com/svc/section/index.html?catid=8\" onclick=\"ga(\\'send\\', \\'event\\', \\'GNB\\', \\'MenuBar\\', \\'menu_tech\\');\">테크</a></li>            <li><a href=\"//biz.chosun.com/svc/section/index.html?catid=6\" onclick=\"ga(\\'send\\', \\'event\\', \\'GNB\\', \\'MenuBar\\', \\'menu_finance\\');\">금융</a></li>            <li><a href=\"//biz.chosun.com/svc/section/index.html?catid=5\" onclick=\"ga(\\'send\\', \\'event\\', \\'GNB\\', \\'MenuBar\\', \\'menu_policy\\');\">정책</a></li>            <li><a href=\"//biz.chosun.com/svc/section/index.html?catid=2\" onclick=\"ga(\\'send\\', \\'event\\', \\'GNB\\', \\'MenuBar\\', \\'menu_opinion\\');\">오피니언</a></li>            <li><a href=\"//biz.chosun.com/svc/section/index.html?catid=1\" onclick=\"ga(\\'send\\', \\'event\\', \\'GNB\\', \\'MenuBar\\', \\'menu_people\\');\">피플</a></li>        </ul><!-- gnb_menu_list -->        <div class=\"biz_k\"><a href=\"#\"><img src=\"//image.chosun.com/chosunbiz/2018/main/cbz_k.png\" alt=\"조선비즈k\" onclick=\"ga(\\'send\\', \\'event\\', \\'GNB\\', \\'Logo\\', \\'BizK\\');\"></a></div>        <div class=\"menu_list\">            <ul>                <li><a href=\"//biz.chosun.com/svc/list_in/list.html\" onclick=\"ga(\\'send\\', \\'event\\', \\'GNB\\', \\'layer\\', \\'menu_all\\');\">전체기사</a></li>                <li><a href=\"//biz.chosun.com/svc/section/index.html?catid=7\" onclick=\"ga(\\'send\\', \\'event\\', \\'GNB\\', \\'layer\\', \\'layer_industry\\');\">산업</a>                    <div class=\"submenu\">                        <ul>                            <li><a href=\"//biz.chosun.com/svc/list_in/list.html?catid=71\">기업</a></li>                            <li><a href=\"//biz.chosun.com/svc/list_in/list.html?catid=72\">자동차</a></li>                        </ul>                    </div>                </li>                <li><a href=\"//biz.chosun.com/svc/section/index.html?catid=4\" onclick=\"ga(\\'send\\', \\'event\\', \\'GNB\\', \\'layer\\', \\'layer_realty\\');\">부동산</a>                    <div class=\"submenu\">                        <ul>                            <li><a href=\"//biz.chosun.com/svc/list_in/list.html?catid=41\">부동산 일반</a></li>                            <li><a href=\"//biz.chosun.com/svc/list_in/list.html?catid=42\">분양</a></li>                        </ul>                    </div>                </li>                <li><a href=\"//biz.chosun.com/svc/section/index.html?catid=3\" onclick=\"ga(\\'send\\', \\'event\\', \\'GNB\\', \\'layer\\', \\'layer_stock\\');\">증권</a>                    <div class=\"submenu\">                        <ul>                            <li><a href=\"//biz.chosun.com/svc/list_in/list.html?catid=31\">증권 일반</a></li>                            <li><a href=\"//biz.chosun.com/svc/list_in/list.html?catid=32\">해외시장</a></li>                            <li><a href=\"//biz.chosun.com/svc/list_in/list.html?catid=33\">시장동향</a></li>                            <li><a href=\"//biz.chosun.com/svc/list_in/list.html?catid=34\">분석과 전망</a></li>                        </ul>                    </div>                </li>                <li><a href=\"//biz.chosun.com/svc/section/index.html?catid=8\" onclick=\"ga(\\'send\\', \\'event\\', \\'GNB\\', \\'layer\\', \\'layer_tech\\');\">테크</a>                    <div class=\"submenu\">                        <ul>                            <li><a href=\"//biz.chosun.com/svc/list_in/list.html?catid=81\">일반/정책</a></li>                            <li><a href=\"//biz.chosun.com/svc/list_in/list.html?catid=82\">ICT/미디어</a></li>                            <li><a href=\"//biz.chosun.com/svc/list_in/list.html?catid=83\">과학/바이오</a></li>                            <li><a href=\"//biz.chosun.com/svc/list_in/list.html?catid=84\">스타트업/VC</a></li>                        </ul>                    </div>                </li>                <li><a href=\"//biz.chosun.com/svc/section/index.html?catid=6\" onclick=\"ga(\\'send\\', \\'event\\', \\'GNB\\', \\'layer\\', \\'layer_finance\\');\">금융</a></li>                <li><a href=\"//biz.chosun.com/svc/section/index.html?catid=5\" onclick=\"ga(\\'send\\', \\'event\\', \\'GNB\\', \\'layer\\', \\'layer_policy\\');\">정책</a></li>                <li><a href=\"//biz.chosun.com/svc/section/index.html?catid=2\" onclick=\"ga(\\'send\\', \\'event\\', \\'GNB\\', \\'layer\\', \\'layer_opinion\\');\">오피니언</a>                    <div class=\"submenu\">                        <ul>                            <li><a href=\"//biz.chosun.com/svc/list_in/list.html?catid=21\">데스크 칼럼</a></li>                            <li><a href=\"//biz.chosun.com/svc/list_in/list.html?catid=22\">팀장 칼럼</a></li>                            <li><a href=\"//biz.chosun.com/svc/list_in/list.html?catid=23\">기자수첩</a></li>                            <li><a href=\"//biz.chosun.com/svc/list_in/list.html?catid=24\">전문가 칼럼</a></li>                            <li><a href=\"//biz.chosun.com/svc/list_in/list.html?catid=25\">북리뷰</a></li>                        </ul>                    </div>                </li>                <li><a href=\"//biz.chosun.com/svc/section/index.html?catid=1\" onclick=\"ga(\\'send\\', \\'event\\', \\'GNB\\', \\'layer\\', \\'layer_opinion\\');\">피플</a>                    <div class=\"submenu\">                        <ul>                            <li><a href=\"//biz.chosun.com/svc/list_in/list.html?catid=11\">인사</a></li>                            <li><a href=\"//biz.chosun.com/svc/list_in/list.html?catid=12\">부음</a></li>                            <li><a href=\"//biz.chosun.com/svc/list_in/list.html?catid=13\">알립니다</a></li>                            <li><a href=\"//biz.chosun.com/svc/list_in/list.html?catid=15\">사람</a></li>                        </ul>                    </div>                </li>            </ul>        </div>        <ul class=\"hash_menu\"><li><a href=\"https://nsearch.chosun.com/search/total.search?query=2%C2%B720+%EB%B6%80%EB%8F%99%EC%82%B0+%EB%8C%80%EC%B1%85&amp;siteid=&amp;category=&amp;sort=&amp;writer=&amp;field=&amp;date_period=&amp;date_start=&amp;date_end=&amp;emd_word=&amp;expt_word=&amp;opt_chk=\" onclick=\"ga(\\'send\\', \\'event\\', \\'GNB\\', \\'MenuBar\\', \\'issuekeyword\\');\">#2·20 부동산 대책</a></li><li><a href=\"https://nsearch.chosun.com/search/total.search?query=%ED%9D%94%EB%93%A4%EB%A6%AC%EB%8A%94+%EA%B2%BD%EC%A0%9C%EA%B4%80%EB%A3%8C&amp;biz_search=gnbtotal\" onclick=\"ga(\\'send\\', \\'event\\', \\'GNB\\', \\'MenuBar\\', \\'issuekeyword\\');\">#흔들리는  경제관료</a></li></ul><!-- hash_menu -->        <div class=\"cbz_search_btn\"><a href=\"#\" onclick=\"ga(\\'send\\', \\'event\\', \\'GNB\\', \\'MenuBar\\', \\'search\\');\" rel=\"nofollow\">조선비즈 검색버튼</a></div>    </div>    <div class=\"sch_area\"><div class=\"sch_inputbox\"><form action=\"\" method=\"get\" name=\"frm\" id=\"id_searchForm\"><fieldset><legend>통합검색</legend><span class=\"InputOutline\"><input type=\"text\" class=\"searchTerm\" id=\"query\" name=\"query\" title=\"검색어 입력\" value=\"\" onkeyup=\"if(event.keyCode == 13){if(goSearch(document.frm)){document.frm.submit();}} else {autotrick(\" topsearch\",event.keycode);}\"=\"\" onclick=\"auto_options_hide();\" placeholder=\"검색어를 입력하세요.\" autocomplete=\"off\"></span><span class=\"searchBtn\"><input type=\"submit\" title=\"검색\" id=\"btnSrchSubmit\" value=\"검색\" onclick=\"goSubmit();\"></span><input type=\"hidden\" name=\"biz_search\" id=\"biz_search\" value=\"gnbtotal\"></fieldset></form></div></div></div><!-- gnb_area -->\\n            </div>\\n        </div><!-- #header -->\\n\\t\\t<script>getKeyword();</script>\\n\\n        <div id=\"contents\">\\n            <div class=\"inner\">\\n                <div class=\"left_area\">\\n                    <div class=\"list_left_aside\" id=\"list_left_aside_id\">\\n                        <!-- biz_left_menu.js에서 불러옵니다. -->\\n                    <ul class=\"list_left_cat\"><li><a href=\"//biz.chosun.com/svc/list_in/list.html?catid=7\">산업</a></li><li><a href=\"//biz.chosun.com/svc/list_in/list.html?catid=71\">기업</a></li><li><a href=\"//biz.chosun.com/svc/list_in/list.html?catid=72\">자동차</a></li><li><a href=\"//biz.chosun.com/svc/list_in/list.html?catid=73\">일반</a></li></ul></div>\\n\\n                </div><!-- left_area -->\\n\\n                <div class=\"news_cont_area\">\\n                    <div class=\"sec_realty\">\\n                        <div class=\"sec_top\">\\n                            <div class=\"top_thumb_news\">\\n                                <div class=\"left\">\\n                                    <a href=\"/site/data/html_dir/2020/02/21/2020022102950.html\" class=\"img\"><img src=\"https://image.chosun.com/sitedata/image/202002/21/2020022102939_0.png\" alt=\"\"></a>\\n                                </div>\\n                                <div class=\"right\">\\n                                    <h1 class=\"title\"><a href=\"/site/data/html_dir/2020/02/21/2020022102950.html\">\\n\\t\\t\\t\\t\\t\\t\\t\\t\\t마스크 가격 13배 올려 \\'폭리\\'... 코로나에 무너진 상도덕\\t\\t\\t\\t\\t\\t\\t\\t\\t</a></h1>\\n                                    <p class=\"txt\">\\n                                        21일 온라인 쇼핑몰 G마켓에는 유한킴벌리 덴탈 마스크(일회용 수술용 마스크) 1박스(50개입)가 8만5000원에 판매되고 있었다. 이 제품은 코로나19 사태가 발생하기 전에 6300원에 ..                                    </p>\\n                                </div>\\n                            </div><!-- top_thumb_news -->\\n\\t\\t\\t\\t\\t\\t\\t<dl class=\"news_item\"><dt><a href=\"/site/data/html_dir/2020/02/22/2020022200383.html\" target=\"\">코로나가 바꾼 장바구니... \"마트 대신 온라인, 외모보다 건강\"</a></dt></dl>\\n\\n\\n\\t\\t\\t\\t\\t\\t\\t<dl class=\"news_item\"><dt><a href=\"/site/data/html_dir/2020/02/21/2020022102766.html\" target=\"\">휘발유 가격 4주 연속 하락…리터당 14.1원 내린 1538.5원</a></dt></dl>\\n\\n\\n\\t\\t\\t\\t\\t\\t\\t<dl class=\"news_item\"><dt><a href=\"/site/data/html_dir/2020/02/22/2020022200216.html\" target=\"\">세제 혜택 못받아… 쏘렌토 하이브리드 사전계약 중단</a></dt></dl>\\n\\n\\n\\t\\t\\t\\t\\t\\t\\t<dl class=\"news_item\"><dt><a href=\"/site/data/html_dir/2020/02/22/2020022200218.html\" target=\"\">삼성전자 이사회 의장에 \\'사외이사\\' 박재완 前장관</a></dt></dl>\\n\\n\\n\\t\\t\\t\\t\\t\\t\\t<dl class=\"news_item\"><dt><a href=\"/site/data/html_dir/2020/02/22/2020022200210.html\" target=\"\">조원태 \\'백기사\\' 美 델타항공, 한진칼 지분 1% 추가로 매입</a></dt></dl>\\n\\n\\n                        </div>\\n                        <dl class=\"news_item thum\">\\n                            <dt><a href=\"/site/data/html_dir/2020/02/22/2020022200208.html\">삼성, 출장 자제… LG, 3인 이상 회의 금지</a></dt>\\n                            <dd class=\"sub_tit\"><a href=\"/site/data/html_dir/2020/02/22/2020022200208.html\"></a></dd>\\n                            <dd class=\"desc\">\\n                                    삼성전자는 21일 구미와 수원 사업장을 오가는 셔틀버스 운행을 중단했다. 해외는 물론이고 국내 출장도 자제하고, 각종 집합 교육도 취소키로 했다. 회의는 최소화하되, 부득이한 경우엔 반드시 마스크를 착용하고 회의를 ..                            </dd>\\n                        </dl>\\n\\n                        <dl class=\"news_item\"><dt><a href=\"/site/data/html_dir/2020/02/21/2020022102759.html\" target=\"\">쿠팡, 고객과 배송인력 안전 위해 비대면 \\'언택트\\' 배송 실시</a></dt></dl>\\n\\n                        <dl class=\"news_item\"><dt><a href=\"/site/data/html_dir/2020/02/21/2020022102753.html\" target=\"\">세포라, 잠실 롯데월드몰에 4호점 열어</a></dt></dl>\\n\\n                        <dl class=\"news_item\"><dt><a href=\"/site/data/html_dir/2020/02/21/2020022102743.html\" target=\"\">마세라티, 신형 슈퍼 스포츠카 \\'MC20\\'으로 레이싱 복귀</a></dt></dl>\\n\\n                        <dl class=\"news_item\"><dt><a href=\"/site/data/html_dir/2020/02/21/2020022102732.html\" target=\"\">\\'실적 부진\\' 두산重, 루마니아 IMGB 공장 청산</a></dt></dl>\\n\\n                        <dl class=\"news_item\"><dt><a href=\"/site/data/html_dir/2020/02/21/2020022102722.html\" target=\"\">쏘렌토 하이브리드 사전계약 중단… 기아차 최대 171억원 보상할 듯</a></dt></dl>\\n\\n                        <dl class=\"news_item thum\">\\n                            <dd class=\"thumb\">\\n                                <a href=\"/site/data/html_dir/2020/02/21/2020022102701.html\" class=\"headline2_fade_id\">\\n                                    <img src=\"https://image.chosun.com/sitedata/image/202002/21/2020022102690_0.png\" alt=\"\">\\n                                </a>\\n                            </dd>\\n                            <dt><a href=\"/site/data/html_dir/2020/02/21/2020022102701.html\">[단독] 코로나 직격탄... 롯데호텔 임원 급여 10% 반납, 직원 무급휴가</a></dt>\\n                            <dd class=\"sub_tit\"><a href=\"/site/data/html_dir/2020/02/21/2020022102701.html\"></a></dd>\\n                            <dd class=\"desc\">\\n                                    코로나19 사태로 호텔업계가 어려움을 겪고 있는 가운데, 롯데호텔 임원들이 한시적으로 급여를 10% 반납하기로 결정했다. 롯데호텔은 또 전 직원을 대상으로는 무급 휴가를 권장하기로 했다. 21일 관련 업계에 따르면 ..                            </dd>\\n                        </dl>\\n\\n\\n                        <dl class=\"news_item\"><dt><a href=\"/site/data/html_dir/2020/02/21/2020022102657.html\" target=\"\">BMW, 뉴 X3·X4 가솔린 라인업 출시… 6400만원부터</a></dt></dl>\\n\\n                        <dl class=\"news_item\"><dt><a href=\"/site/data/html_dir/2020/02/21/2020022102615.html\" target=\"\">포스코, 사내·사외이사 후보 재추천</a></dt></dl>\\n\\n                        <dl class=\"news_item\"><dt><a href=\"/site/data/html_dir/2020/02/21/2020022102558.html\" target=\"\">㈜엔보노, 한방생약 원료 기초화장품 3종 세트 출시</a></dt></dl>\\n\\n                        <dl class=\"news_item\"><dt><a href=\"/site/data/html_dir/2020/02/21/2020022102256.html\" target=\"\">코로나19 사태에 치솟는 금값... 7년만에 최고치</a></dt></dl>\\n\\n                        <dl class=\"news_item\"><dt><a href=\"/site/data/html_dir/2020/02/21/2020022102202.html\" target=\"\">현대重, 차세대 함정용 전기추진체계 개발 나서</a></dt></dl>\\n\\n                    </div>\\n                </div><!-- news_cont_area -->\\n\\n                <div class=\"right_area\">\\n                    <div class=\"live_box\">\\n                        <strong><a href=\"/svc/list_in/list.html\" onclick=\"ga(\\'send\\', \\'event\\', \\'HeadRight\\', \\'service\\', \\'livenews\\');\">실시간 뉴스</a></strong>\\n                        <a href=\"javascript:;\" onclick=\"_bizNewsSub.getLiveNewsList();\" class=\"btn_refresh\"></a>\\n                        <div class=\"live_box_in\">\\n                            <div class=\"scroll-wrapper scrollbar-inner live_scroll\" style=\"position: relative;\"><div class=\"scrollbar-inner live_scroll scroll-content scroll-scrolly_visible\" id=\"today_live_con_id\" style=\"height: auto; margin-bottom: 0px; margin-right: 0px; max-height: 410px;\"><dl class=\"live_item\"><dd class=\"time\">10:42</dd><dt><a href=\"https://biz.chosun.com/site/data/html_dir/2020/02/22/2020022200713.html\" onclick=\"ga(\\'send\\', \\'event\\', \\'HeadRight\\', \\'service\\', \\'livenews\\');\">23일 공인회계사 시험 예정대로 진행… \"심..</a></dt></dl><dl class=\"live_item\"><dd class=\"time\">10:02</dd><dt><a href=\"https://biz.chosun.com/site/data/html_dir/2020/02/22/2020022200653.html\" onclick=\"ga(\\'send\\', \\'event\\', \\'HeadRight\\', \\'service\\', \\'livenews\\');\">[특파원 칼럼] ‘책임을 다했다’는 대국의..</a></dt></dl><dl class=\"live_item\"><dd class=\"time\">10:00</dd><dt><a href=\"https://biz.chosun.com/site/data/html_dir/2020/02/21/2020022102462.html\" onclick=\"ga(\\'send\\', \\'event\\', \\'HeadRight\\', \\'service\\', \\'livenews\\');\">물류센터·주유소로 영토 넓히는 공모 리츠..</a></dt></dl><dl class=\"live_item\"><dd class=\"time\">10:00</dd><dt><a href=\"https://biz.chosun.com/site/data/html_dir/2020/02/21/2020022102711.html\" onclick=\"ga(\\'send\\', \\'event\\', \\'HeadRight\\', \\'service\\', \\'livenews\\');\">ETF도 IT가 대세… 올 들어 10.3% 수익률로..</a></dt></dl><dl class=\"live_item\"><dd class=\"time\">07:00</dd><dt><a href=\"https://biz.chosun.com/site/data/html_dir/2020/02/21/2020022102950.html\" onclick=\"ga(\\'send\\', \\'event\\', \\'HeadRight\\', \\'service\\', \\'livenews\\');\">마스크 가격 13배 올려 \\'폭리\\'... 코로나에</a></dt></dl><dl class=\"live_item\"><dd class=\"time\">06:00</dd><dt><a href=\"https://biz.chosun.com/site/data/html_dir/2020/02/21/2020022102855.html\" onclick=\"ga(\\'send\\', \\'event\\', \\'HeadRight\\', \\'service\\', \\'livenews\\');\">\"타다 어떻게 가입하냐\"… \\'무죄\\' 소식에 ..</a></dt></dl><dl class=\"live_item\"><dd class=\"time\">06:00</dd><dt><a href=\"https://biz.chosun.com/site/data/html_dir/2020/02/21/2020022102853.html\" onclick=\"ga(\\'send\\', \\'event\\', \\'HeadRight\\', \\'service\\', \\'livenews\\');\">\\'갤럭시Z 플립 톰브라운 에디션\\' 되팔기 기..</a></dt></dl><dl class=\"live_item\"><dd class=\"time\">06:00</dd><dt><a href=\"https://biz.chosun.com/site/data/html_dir/2020/02/22/2020022200383.html\" onclick=\"ga(\\'send\\', \\'event\\', \\'HeadRight\\', \\'service\\', \\'livenews\\');\">코로나가 바꾼 장바구니... \"마트 대신 온</a></dt></dl><dl class=\"live_item\"><dd class=\"time\">05:00</dd><dt><a href=\"https://biz.chosun.com/site/data/html_dir/2020/02/21/2020022102766.html\" onclick=\"ga(\\'send\\', \\'event\\', \\'HeadRight\\', \\'service\\', \\'livenews\\');\">휘발유 가격 4주 연속 하락…리터당 14.1원..</a></dt></dl><dl class=\"live_item\"><dd class=\"time\">03:09</dd><dt><a href=\"https://biz.chosun.com/site/data/html_dir/2020/02/22/2020022200216.html\" onclick=\"ga(\\'send\\', \\'event\\', \\'HeadRight\\', \\'service\\', \\'livenews\\');\">세제 혜택 못받아… 쏘렌토 하이브리드 사..</a></dt></dl><dl class=\"live_item\"><dd class=\"time\">03:09</dd><dt><a href=\"https://biz.chosun.com/site/data/html_dir/2020/02/22/2020022200218.html\" onclick=\"ga(\\'send\\', \\'event\\', \\'HeadRight\\', \\'service\\', \\'livenews\\');\">삼성전자 이사회 의장에 \\'사외이사\\' 박재완..</a></dt></dl><dl class=\"live_item\"><dd class=\"time\">03:09</dd><dt><a href=\"https://biz.chosun.com/site/data/html_dir/2020/02/22/2020022200210.html\" onclick=\"ga(\\'send\\', \\'event\\', \\'HeadRight\\', \\'service\\', \\'livenews\\');\">조원태 \\'백기사\\' 美 델타항공, 한진칼 지분..</a></dt></dl><dl class=\"live_item\"><dd class=\"time\">03:09</dd><dt><a href=\"https://biz.chosun.com/site/data/html_dir/2020/02/22/2020022200208.html\" onclick=\"ga(\\'send\\', \\'event\\', \\'HeadRight\\', \\'service\\', \\'livenews\\');\">삼성, 출장 자제… LG, 3인 이상 회의 금지</a></dt></dl><dl class=\"live_item\"><dd class=\"time\">03:09</dd><dt><a href=\"https://biz.chosun.com/site/data/html_dir/2020/02/22/2020022200206.html\" onclick=\"ga(\\'send\\', \\'event\\', \\'HeadRight\\', \\'service\\', \\'livenews\\');\">작년 해외카드 사용액 22조원… 금융위기 ..</a></dt></dl><dl class=\"live_item\"><dd class=\"time\">03:09</dd><dt><a href=\"https://biz.chosun.com/site/data/html_dir/2020/02/22/2020022200204.html\" onclick=\"ga(\\'send\\', \\'event\\', \\'HeadRight\\', \\'service\\', \\'livenews\\');\">코로나 충격… 이달 수출 9.3% 줄고, 환율 ..</a></dt></dl></div><div class=\"scroll-element scroll-x scroll-scrolly_visible\"><div class=\"scroll-element_outer\"><div class=\"scroll-element_size\"></div><div class=\"scroll-element_track\"></div><div class=\"scroll-bar\" style=\"width: 88px;\"></div></div></div><div class=\"scroll-element scroll-y scroll-scrolly_visible\"><div class=\"scroll-element_outer\"><div class=\"scroll-element_size\"></div><div class=\"scroll-element_track\"></div><div class=\"scroll-bar\" style=\"height: 252px; top: 0px;\"></div></div></div></div>\\n\\t\\t\\t\\t\\t\\t\\t<script>_bizNewsSub.getLiveNewsList();</script>\\n                        </div>\\n                    </div><!-- live_box -->\\n\\n                    <div class=\"list_ad\">  \\n\\t\\t\\t\\t\\t<iframe width=\"300\" height=\"250\" marginwidth=\"0\" marginheight=\"0\" hspace=\"0\" vspace=\"0\" frameborder=\"0\" scrolling=\"no\" bordercolor=\"#000000\" src=\"//yellow.contentsfeed.com/RealMedia/ads/adstream_sx.ads/biz.chosun.com/article@x03\"></iframe>\\n\\t\\t\\t\\t\\t</div>\\n\\n                </div><!-- right_area -->\\n                <div class=\"left_ad\"><img src=\"https://via.placeholder.com/125x350\" alt=\"\"></div>\\n            </div><!-- inner -->\\n        </div><!-- #contents -->\\n\\n        <div id=\"footer\">\\n            <script type=\"text/javascript\" src=\"//biz.chosun.com/dhtm/2018/js/biz_footer_2018.js\"></script><div class=\"inner\">    <div class=\"f_left\">        <div class=\"logo_list\">            <a href=\"//biz.chosun.com/\"><img src=\"//image.chosun.com/chosunbiz/2018/main/f_logo_chosunbiz.png\" alt=\"조선비즈\"></a>            <a href=\"//chosun.com\" target=\"_blank\"><img src=\"//image.chosun.com/chosunbiz/2018/main/f_logo_chosun.png\" alt=\"조선일보\"></a>        </div>    </div><!-- f_left -->    <div class=\"f_right\">        <div class=\"top\">            <ul class=\"info_list\">                <li>등록번호 : 서울 아01175</li>                <li>등록년월일 : 2010.03.19</li>                <li>발행인 : (주)조선비즈 방준오</li>                <li>편집인 : 신효섭</li>                <li>청소년보호책임자 : 진교일</li>            </ul>            <p class=\"addr_copy\">주소 : 서울특별시 중구 세종대로21길 30</p>            <p class=\"addr_copy copy\">Copyright ⓒ All rights reserved</p>        </div>        <div class=\"bot\">            <ul class=\"f_menu\">                <li><a href=\"//biz.chosun.com/about/company_info.html\" target=\"cs_new\">회사소개</a></li>                <li><a href=\"//biz.chosun.com/about/company_recruit.html\" target=\"cs_new\">인재채용(디지털편집국)</a></li>                <li><a href=\"mailto:ad@chosunbiz.com\" target=\"cs_new\">광고안내</a></li>                <li><a href=\"//biz.chosun.com/about/company_ad.html\" target=\"cs_new\">사업문의</a></li>                <li><a href=\"https://members.chosun.com/cms_user/privacy/web/index.jsp\" target=\"cs_new\"><strong>개인정보처리방침</strong></a></li>                <li><a href=\"mailto:chosunbiz@chosun.com\" target=\"cs_new\">독자참여 및 제보</a></li>            </ul>            <div class=\"selectarea\">                <div class=\"selectBox\">                    <select name=\"\" onchange=\"if(this.value) window.open(this.value);\">                        <option value=\"\">관련사</option>                        <option value=\"http://sports.chosun.com/company/index.htm\">스포츠조선</option>                        <option value=\"http://www.chosunis.com/main.aspx\">조선아이에스</option>                        <option value=\"http://company.healthchosun.com/mpr/index.jsp\">헬스조선</option>                        <option value=\"http://chosunedu.co.kr/\">CS M&amp;E</option>                        <option value=\"http://chosunnewspress.chosun.com/client/info/info.asp\">조선뉴스프레스</option>                        <option value=\"//www.chosun.com/\">조선일보</option>                        <option value=\"http://www.tvchosun.com/pressroom/index.cstv\">(주)조선방송</option>                        <option value=\"http://pr.dizzo.com/\">(주)디지틀조선일보</option>                    </select>                </div>            </div>        </div>    </div></div>\\n        </div><!-- #footer -->\\n\\n    </div><!-- #wrapper -->\\n    <script type=\"text/javascript\" src=\"//biz.chosun.com/dhtm/2018/js/main.js\"></script>\\n    <!-- <script src=\"http://biz.chosun.com/dhtm/2018/js/biz_left_menu.js\"></script> -->\\n    <script src=\"//biz.chosun.com/dhtm/2018/js/biz_left_menu.js\"></script>\\n    <script>$(\"#today_live_con_id\").scrollbar();</script><div style=\"left: -1000px; overflow: scroll; position: absolute; top: -1000px; border: none; box-sizing: content-box; height: 200px; margin: 0px; padding: 0px; width: 200px;\"><div style=\"border: none; box-sizing: content-box; height: 200px; margin: 0px; padding: 0px; width: 200px;\"></div></div>\\n\\n</body></html>'"
      ]
     },
     "execution_count": 38,
     "metadata": {},
     "output_type": "execute_result"
    }
   ],
   "source": [
    "html = driver.page_source\n",
    "html"
   ]
  },
  {
   "cell_type": "code",
   "execution_count": null,
   "metadata": {},
   "outputs": [],
   "source": []
  },
  {
   "cell_type": "code",
   "execution_count": 9,
   "metadata": {},
   "outputs": [],
   "source": [
    "def preprocess_word(x) :\n",
    "    m = x.replace('%','per')\n",
    "    m = re.sub(r'(?:\\b[0-9a-zA-Zㄱ-ㅎㅏ-ㅣ]\\b|[?!\\W]+)\\s*', ' ', m).strip() \n",
    "    m = re.sub('per','%',m)\n",
    "    m = \" \".join(m.split())\n",
    "    return m"
   ]
  },
  {
   "cell_type": "code",
   "execution_count": 10,
   "metadata": {},
   "outputs": [],
   "source": [
    "def get_string_from_chosun(bsObject):\n",
    "    text_list = []\n",
    "    for i,meta in enumerate(bsObject.find_all(\"a\")):\n",
    "        text_list.append(meta.get_text())\n",
    "    return text_list\n",
    "#     print(i,bsObject.a['on_click'])"
   ]
  },
  {
   "cell_type": "code",
   "execution_count": 11,
   "metadata": {},
   "outputs": [],
   "source": [
    "def add_company_info_from(s_list,company_dict,verbose=True):\n",
    "    for s in s_list:\n",
    "        \n",
    "        processed_words = []\n",
    "        for word in s.split(' '):\n",
    "            new_word = preprocess_word(word)\n",
    "            if new_word in [\"속보\",\"전체보기\"]:\n",
    "                continue\n",
    "            elif new_word and new_word!='':\n",
    "                processed_words.append(new_word)\n",
    "        if processed_words and verbose:print('*'*20);print(processed_words)\n",
    "        for word in processed_words:\n",
    "            if word in company_list:\n",
    "                company_dict[word].append(\" \".join(processed_words))\n",
    "        "
   ]
  },
  {
   "cell_type": "code",
   "execution_count": 12,
   "metadata": {},
   "outputs": [
    {
     "name": "stdout",
     "output_type": "stream",
     "text": [
      "********************\n",
      "['확', '바뀌는', '롯데쇼핑', '점포', '200개', '폐점하고', '체질개선', '본격', '돌입']\n",
      "********************\n",
      "['우한폐렴에', 'MWC', '전격', '취소', '화웨이', '200억원', '날렸다']\n",
      "********************\n",
      "['MWC', '바이러스에', '주저앉다', '33년', '사상', '첫', '행사', '취소']\n",
      "********************\n",
      "['文대통령', '만난', '이재용', '어깨', '무거워', '고용', '직접', '챙기겠다']\n",
      "********************\n",
      "['조원태', '물러나라', '이사회', '장악', '시동거는', '조현아', '연합군']\n",
      "********************\n",
      "['폭등하는', '수원 용인', '집값', '1주일', '새', '2%', '올라']\n",
      "********************\n",
      "['갤럭시Z', '플립의', '는', '무엇을', '의미할까']\n",
      "********************\n",
      "['삼성전자', '갤럭시', '플립', '톰브라운', '에디션', '21일부터', '한정판매']\n",
      "********************\n",
      "['BTS', '이어', '기생충', '투자', '성공', '산업은행', '2연타석', '대박']\n",
      "********************\n",
      "['우한폐렴이', '무슨', '상관', 'LG생건', '성과급', '지연에', '부글부글']\n",
      "********************\n",
      "['실손', '누수', '막으려다', '의료계에', '판판이', '깨진', '보험업계']\n",
      "********************\n",
      "['일본서', '첫', '우한폐렴', '사망자', '발생', '80대', '여성']\n",
      "********************\n",
      "['알립니다', '사랑받는', '브랜드', '대상', '조선비즈가', '선정합니다']\n",
      "********************\n",
      "['제네시스', 'G80', '출시', '연기', '신차', '골든사이클', '꼬였다']\n",
      "********************\n",
      "['단물', '빨기위해', '해산', '늦춘', '조합장', '13년간', '월급', '더', '타가']\n",
      "********************\n",
      "['2번의', '회의에도', '중점', '과제', '못', '정한', '삼성', '준법감시위']\n",
      "********************\n",
      "['우리은행장', '임기가', '딱', '1년', '우리금융', '이례적', '선택']\n",
      "********************\n",
      "['SK의', '자영업자', '돕기', '최태원', '주1회', '구내식당', '닫자']\n",
      "********************\n",
      "['삼성', '코로나19 로', '위축된', '경기', '살리기', '앞장']\n",
      "********************\n",
      "['우한폐렴에', '출시행사', '줄줄이', '취소', '갤럭시', 'S20', '흥행', '빨간불']\n",
      "********************\n",
      "['8개월만에', '판매액', '154억원', '늘어', '델타항공', '매출', '비결은']\n",
      "********************\n",
      "['LG화학', '9000억원', '회사채', '발행', '석유화학', '시설', '자금으로', '쓸', '듯']\n",
      "********************\n",
      "['홍남기', '코로나19', '경제여파', '메르스보다', '더', '크다']\n",
      "********************\n",
      "['전세계', '통신망에', '몰래', '접근', '화웨이', '그럴', '능력', '없다']\n",
      "********************\n",
      "['5급부터만', '사람', '취급', '非고시', '승진', '누락에', '기재부', '노조', '불만']\n",
      "********************\n",
      "['단지명', '18字까지', '시어머니는', '못찾는', '아파트']\n",
      "********************\n",
      "['경매서', '감정가', '10배에', '낙찰', '까치섬 이', '뭐길래']\n",
      "********************\n",
      "['서울', '오피스', '매매거래', '2년', '연속', '11조원', '넘었다']\n",
      "********************\n",
      "['CJ제일제당', '냉동', '간편식', '매출', '6620억원', '점유율', '34%로', '1위']\n",
      "********************\n",
      "['전기車', '질주에', '배터리', '시장', '10년', '뒤', '17배', '성장']\n",
      "********************\n",
      "['그룹', '총수들', '만난', '文대통령', '코로나', '곧', '종식', '경제', '되살리자']\n",
      "********************\n",
      "['이재현', 'CJ', '회장', '대통령 재계', '간담회', '첫', '참석']\n",
      "********************\n",
      "['과기부', '우한폐렴', '진단법 치료제', '연구에', '2년간', '17억', '지원']\n",
      "********************\n",
      "['카카오', '매출', '3조원', '시대', '작년', '태어난', '늦둥이', '덕이죠']\n",
      "********************\n",
      "['모바일기기', '회사', '폐업', '안드로이드', '아버지 의', '추락']\n",
      "********************\n",
      "['또', '금리', '인하', '나올까', '이주열', '만나는', '홍남기', '입에', '관심']\n",
      "********************\n",
      "['헝가리', '배터리', '공장', '찾은', 'SK이노베이션', '대표', '유럽시장', '공략']\n",
      "********************\n",
      "['마트', '산업', '넘보는', '요기요', '이베이', '출신', '본부장', '영입']\n",
      "********************\n",
      "['강남', '등에서', '고가', '아파트', '매입 고액', '전세입자', '361명', '세무조사']\n",
      "********************\n",
      "['400개', '특허', '발명가', '카멘', '혁신이', '대중에', '닿으려면']\n",
      "********************\n",
      "['IT조선원화', '말고', '자체', '코인으로', '피해', '보상 법조계', '막장이다']\n",
      "********************\n",
      "['이코노미조선바이러스', '대응으로', '본', '중장기적', '정도', '경영의', '중요성']\n",
      "********************\n",
      "['팀장칼럼 화이트칼라', '범죄자', '전성시대']\n",
      "********************\n",
      "['기자수첩 대통령의', '시장', '방문과', '소상공인의', '한숨']\n",
      "********************\n",
      "['MWC', '사상', '첫', '취소']\n",
      "********************\n",
      "['삼성', '갤럭시', '언팩']\n",
      "********************\n",
      "['우한폐렴', '공포']\n",
      "********************\n",
      "['조선비즈', '창간', '10주년']\n",
      "********************\n",
      "['산업']\n",
      "********************\n",
      "['대상', '마곡에', 'D센터', '건설']\n",
      "********************\n",
      "['한국타이어', '2019년', '영업익', '5430억 전년比', '22 7%', '감소']\n",
      "********************\n",
      "['두산인프라코어', '지난해', '매출', '8조원', '넘었다', '엔진', '판매', '호조', '덕']\n",
      "********************\n",
      "['토니모리', '작년', '4분기', '영업익', '20억원 흑자전환']\n",
      "********************\n",
      "['롯데', '백화점 마트 수퍼', '200개', '문닫는다']\n",
      "********************\n",
      "['부동산']\n",
      "********************\n",
      "['금호산업', '작년', '영업이익', '556억 전년', '比', '31 7%']\n",
      "********************\n",
      "['한화건설', '포레나', '단지', '3곳', '상업시설', '분양']\n",
      "********************\n",
      "['한국건설경영협회', '신임', '회장에', '하석주', '롯데건설', '대표']\n",
      "********************\n",
      "['LG하우시스', '호텔', '인테리어', '시장', '공략', '나서']\n",
      "********************\n",
      "['르포', '현대 GS 대림', '다시', '맞붙은', '한남3구역', '가보니', '아직은', '잠잠']\n",
      "********************\n",
      "['증권']\n",
      "********************\n",
      "['나흘간', '184%', '오른', '기생충株', '바른손', '투자경고종목', '지정']\n",
      "********************\n",
      "['마켓뷰', '우한폐렴', '사망자', '발생설에', '출렁', '음성', '나왔으나', '약세', '마감']\n",
      "********************\n",
      "['금감원', 'ETF', '30%', '비중제한', '풀어준다', '코스피200', '30%캡과는', '별개', '사안']\n",
      "********************\n",
      "['10년간', '코스피보다', '수익률', '높았던', '알짜', '펀드는']\n",
      "********************\n",
      "['삼성證', '싱가포르', '주식', '온라인', '매매', '서비스', '시작 리츠', '주목']\n",
      "********************\n",
      "['테크']\n",
      "********************\n",
      "['넷마블', '4분기', '영업이익', '502억원', '글로벌', '성과에', '전년比', '32 1%', '늘어']\n",
      "********************\n",
      "['넥슨', '4분기', '영업이익', '488억원', '韓', '성과에', '전년比', '16%', '늘어']\n",
      "********************\n",
      "['삼성전자', '갤럭시', '플립', '톰브라운', '에디션', '21일부터', '한정판매']\n",
      "********************\n",
      "['과기정통부', '코로나19', '진단법 치료제', '연구', '등에', '17억', '지원']\n",
      "********************\n",
      "['시큐아이', '클라우드', '보안', '차세대', '방화벽', '제품', '출시']\n",
      "********************\n",
      "['금융']\n",
      "********************\n",
      "['신한DS 한컴위드', '블록체인', '기반', '자산관리플랫폼', '개발']\n",
      "********************\n",
      "['수출입은행', '바이오 헬스케어', '산업에', '정책금융', '1조원', '공급']\n",
      "********************\n",
      "['경사노위', '금융권', '임금체계', '개편', '논의', '노조', '보이콧에', '불발']\n",
      "********************\n",
      "['우리', '190억 하나', '160억', '증선위', 'DLF', '사태', '과태료', '감경']\n",
      "********************\n",
      "['신종', '코로나', '피해기업', '금융지원에', '3일만에', '6000건', '몰려']\n",
      "********************\n",
      "['정책']\n",
      "********************\n",
      "['김용범', '기재', '1차관', '마스크', '1만개', '이상', '판매시', '수량 가격', '등', '신고해야']\n",
      "********************\n",
      "['공정위', '납품업체', '돈으로', '행사한', 'CU에', '과징금']\n",
      "********************\n",
      "['자금유용', '논란', '상조공제조합', '이사장', '고정급여', '폐지하고', '자격', '강화']\n",
      "********************\n",
      "['학회장에', '듣는다 ②', '신성환', '15억원', '초과', '주담대', '금지는', '하수', '규제']\n",
      "********************\n",
      "['요즘', '쉬고', '있어', '40대', '1년새', '25%', '늘었다']\n",
      "********************\n",
      "['4분기', '영업이익', '발표']\n",
      "********************\n",
      "['CJ', 'ENM', '작년', '영업익', '2694억원', '전', '사업', '부문', '흑자']\n",
      "********************\n",
      "['신세계', '작년', '첫', '6조', '매출', '돌파', '역대', '최대', '실적']\n",
      "********************\n",
      "['대웅제약', '개별', '매출기준', '첫', '1조원', '돌파', '1조', '클럽', '가입']\n",
      "********************\n",
      "['현대상선', '지난해', '영업손실', '3040억원', '전년', '比', '45%', '개선']\n",
      "********************\n",
      "['CJ', 'ENM', '작년', '영업익', '2694억원', '전', '사업', '부문', '흑자']\n",
      "********************\n",
      "['신세계', '작년', '첫', '6조', '매출', '돌파', '역대', '최대', '실적']\n",
      "********************\n",
      "['대웅제약', '개별', '매출기준', '첫', '1조원', '돌파', '1조', '클럽', '가입']\n",
      "********************\n",
      "['현대상선', '지난해', '영업손실', '3040억원', '전년', '比', '45%', '개선']\n",
      "********************\n",
      "['많이', '본', '뉴스']\n",
      "********************\n",
      "['조선비즈']\n",
      "********************\n",
      "['조선닷컴']\n",
      "********************\n",
      "['IT조선']\n",
      "********************\n",
      "['이코노미조선']\n",
      "********************\n",
      "['원화', '말고', '자체', '코인으로', '피해', '보상 법조계', '막장이다']\n",
      "********************\n",
      "['화웨이 샤오미', '유럽', '공략', '빨간불 美', '제재', '이어', '코로나19', '불똥']\n",
      "********************\n",
      "['5조', '韓', '성인시장', '노리는', '텐가', '홍대', '인근에', '첫', '성인용품', '팝업스토어', '열어']\n",
      "********************\n",
      "['4차위', '사실상', 'AI위원회', '탈바꿈 윤성로', '위원장', '취임', '맞춰', '대대적', '변신']\n",
      "********************\n",
      "['긱', '이코노미 대세지만', '직원', '직접', '고용한', '플랫폼', '기업']\n",
      "********************\n",
      "['웹툰', '전성시대 포털', '공짜', '콘텐츠에서', '황금알', '낳는', '거위 로']\n",
      "********************\n",
      "['글로벌', '온라인', '데이트', '앱', '틴더 Z세대의', '새로운', '관계', '맺기']\n",
      "********************\n",
      "['록키 Rocky', '끝까지', '버티는', '게', '이기는', '것일', '때도', '있다']\n",
      "********************\n",
      "['국민게임', '제작사의', '추락', '소비자', '분노에', '조건없는', '환불']\n",
      "********************\n",
      "['제로섬', '아니라', '공생', '멀티', 'OTT', '시대', '본격화']\n",
      "********************\n",
      "['최태원', '100회', '참석한', 'SK행복토크', '올해는', '계열사', '사장이', '진행']\n",
      "********************\n",
      "['소프트뱅크가', '3000억', '투자한', '美', '스타트업이', '폐업했다']\n",
      "********************\n",
      "['돈', '많이', '드는', '인공지능은', '가라']\n",
      "********************\n",
      "['천재의', '창업', '소식에', '뭔진', '몰라도', '투자', '촉', '왔죠']\n",
      "********************\n",
      "['우한', '폐렴에', '플라스마로', '세균', '잡는', '공기살균기', '관심']\n",
      "********************\n",
      "['컨벤션클럽']\n",
      "********************\n",
      "['지난', '컨퍼런스', '영상과', '자료', '보기 컨벤션클럽', '서비스를', '시작합니다']\n",
      "********************\n",
      "['박순욱의', '술기행']\n",
      "********************\n",
      "['개성만점', '우리', '전통주 주점', '인기', '1위', '술은']\n",
      "********************\n",
      "['김지수의', '인터스텔라']\n",
      "********************\n",
      "['정신과의사', '전미경', '칭찬', '인정', '가짜', '자존감에서', '빠져나와야']\n",
      "********************\n",
      "['골드클럽']\n",
      "********************\n",
      "['초저가로는', '부족해', '정용진', '부회장도', '나선', '이마트', '상생', '스토리']\n",
      "********************\n",
      "['KB금융', '위해', '5500억', '자금', '조달']\n",
      "********************\n",
      "['오스템임플란트', 'AI', '기반', '디지털', '치과용', '전자차트', '내놓는다']\n"
     ]
    }
   ],
   "source": [
    "company_dict.clear()\n",
    "chosun_news = get_string_from_chosun(bsObject) \n",
    "add_company_info_from(chosun_news,company_dict)\n"
   ]
  },
  {
   "cell_type": "code",
   "execution_count": 13,
   "metadata": {},
   "outputs": [
    {
     "name": "stdout",
     "output_type": "stream",
     "text": [
      "defaultdict(<class 'list'>,\n",
      "            {'CJ': ['이재현 CJ 회장 대통령 재계 간담회 첫 참석',\n",
      "                    'CJ ENM 작년 영업익 2694억원 전 사업 부문 흑자',\n",
      "                    'CJ ENM 작년 영업익 2694억원 전 사업 부문 흑자'],\n",
      "             'CJ제일제당': ['CJ제일제당 냉동 간편식 매출 6620억원 점유율 34%로 1위'],\n",
      "             'KB금융': ['KB금융 위해 5500억 자금 조달'],\n",
      "             'LG하우시스': ['LG하우시스 호텔 인테리어 시장 공략 나서'],\n",
      "             'LG화학': ['LG화학 9000억원 회사채 발행 석유화학 시설 자금으로 쓸 듯'],\n",
      "             'SK이노베이션': ['헝가리 배터리 공장 찾은 SK이노베이션 대표 유럽시장 공략'],\n",
      "             '금호산업': ['금호산업 작년 영업이익 556억 전년 比 31 7%'],\n",
      "             '넷마블': ['넷마블 4분기 영업이익 502억원 글로벌 성과에 전년比 32 1% 늘어'],\n",
      "             '대상': ['알립니다 사랑받는 브랜드 대상 조선비즈가 선정합니다', '대상 마곡에 D센터 건설'],\n",
      "             '대웅제약': ['대웅제약 개별 매출기준 첫 1조원 돌파 1조 클럽 가입',\n",
      "                      '대웅제약 개별 매출기준 첫 1조원 돌파 1조 클럽 가입'],\n",
      "             '두산인프라코어': ['두산인프라코어 지난해 매출 8조원 넘었다 엔진 판매 호조 덕'],\n",
      "             '롯데쇼핑': ['확 바뀌는 롯데쇼핑 점포 200개 폐점하고 체질개선 본격 돌입'],\n",
      "             '바른손': ['나흘간 184% 오른 기생충株 바른손 투자경고종목 지정'],\n",
      "             '삼성전자': ['삼성전자 갤럭시 플립 톰브라운 에디션 21일부터 한정판매',\n",
      "                      '삼성전자 갤럭시 플립 톰브라운 에디션 21일부터 한정판매'],\n",
      "             '신세계': ['신세계 작년 첫 6조 매출 돌파 역대 최대 실적',\n",
      "                     '신세계 작년 첫 6조 매출 돌파 역대 최대 실적'],\n",
      "             '오스템임플란트': ['오스템임플란트 AI 기반 디지털 치과용 전자차트 내놓는다'],\n",
      "             '이마트': ['초저가로는 부족해 정용진 부회장도 나선 이마트 상생 스토리'],\n",
      "             '카카오': ['카카오 매출 3조원 시대 작년 태어난 늦둥이 덕이죠'],\n",
      "             '토니모리': ['토니모리 작년 4분기 영업익 20억원 흑자전환'],\n",
      "             '현대상선': ['현대상선 지난해 영업손실 3040억원 전년 比 45% 개선',\n",
      "                      '현대상선 지난해 영업손실 3040억원 전년 比 45% 개선']})\n"
     ]
    }
   ],
   "source": [
    "pprint.pprint(company_dict)\n",
    "# print(list(company_list))"
   ]
  },
  {
   "cell_type": "code",
   "execution_count": 14,
   "metadata": {},
   "outputs": [],
   "source": [
    "def save_json_newsdata(dict_data:dict,url:str,save_dir='crawling_data'):\n",
    "    save_time = time.strftime('%Y-%m-%d', time.localtime(time.time()))\n",
    "    crawl_name = url.split(\"//\")[-1].strip('/')\n",
    "    file_name = f\"{save_time}_{crawl_name}.json\"\n",
    "    if not os.path.exists(save_dir):\n",
    "        os.makedirs(save_dir)\n",
    "    save_path = os.path.join(save_dir,file_name)\n",
    "    with open(save_path,\"w\") as json_file:\n",
    "        json.dump(dict_data,json_file)"
   ]
  },
  {
   "cell_type": "code",
   "execution_count": 15,
   "metadata": {},
   "outputs": [],
   "source": [
    "\n",
    "save_json_newsdata(company_dict,url=url)"
   ]
  },
  {
   "cell_type": "code",
   "execution_count": null,
   "metadata": {},
   "outputs": [],
   "source": []
  }
 ],
 "metadata": {
  "kernelspec": {
   "display_name": "Python 3",
   "language": "python",
   "name": "python3"
  },
  "language_info": {
   "codemirror_mode": {
    "name": "ipython",
    "version": 3
   },
   "file_extension": ".py",
   "mimetype": "text/x-python",
   "name": "python",
   "nbconvert_exporter": "python",
   "pygments_lexer": "ipython3",
   "version": "3.7.3"
  }
 },
 "nbformat": 4,
 "nbformat_minor": 4
}
